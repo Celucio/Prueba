{
 "cells": [
  {
   "cell_type": "code",
   "execution_count": null,
   "metadata": {},
   "outputs": [],
   "source": [
    "#Autor: Carlos Lucio\n",
    "#Agente: Robot Dispensador de platos para un restaurante\n",
    "#Indicaciones\n",
    "#Ingresar la ubicación del agente. Este tendrá 3 ubicaciones\n",
    "#El identificador A para la Cocina\n",
    "#El identificador B para la mesa cerca del chef\n",
    "#El identificador C para la mesa cerca del mostrador\n",
    "\n"
   ]
  }
 ],
 "metadata": {
  "language_info": {
   "name": "python"
  },
  "orig_nbformat": 4
 },
 "nbformat": 4,
 "nbformat_minor": 2
}
